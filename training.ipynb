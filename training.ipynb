{
 "cells": [
  {
   "cell_type": "code",
   "execution_count": 23,
   "metadata": {},
   "outputs": [],
   "source": [
    "import pandas as pd\n",
    "import numpy as np\n",
    "import matplotlib.pyplot as plt\n",
    "import seaborn as sns\n",
    "color = sns.color_palette()\n",
    "sns.set_style('darkgrid')\n",
    "import warnings\n",
    "def ignore_warn(*args, **kwargs):\n",
    "    pass\n",
    "warnings.warn = ignore_warn #ignore annoying warning (from sklearn and seaborn)\n",
    "\n",
    "\n",
    "from scipy import stats\n",
    "from scipy.stats import norm, skew #for some statistics\n",
    "\n",
    "\n",
    "pd.set_option('display.float_format', lambda x: '{:.3f}'.format(x)) #Limiting floats output to 3 decimal points\n",
    "\n",
    "\n",
    "from subprocess import check_output"
   ]
  },
  {
   "cell_type": "code",
   "execution_count": 26,
   "metadata": {},
   "outputs": [],
   "source": [
    "data = pd.read_csv('incomes_data.csv')"
   ]
  },
  {
   "cell_type": "code",
   "execution_count": 27,
   "metadata": {},
   "outputs": [
    {
     "data": {
      "text/html": [
       "<div>\n",
       "<style scoped>\n",
       "    .dataframe tbody tr th:only-of-type {\n",
       "        vertical-align: middle;\n",
       "    }\n",
       "\n",
       "    .dataframe tbody tr th {\n",
       "        vertical-align: top;\n",
       "    }\n",
       "\n",
       "    .dataframe thead th {\n",
       "        text-align: right;\n",
       "    }\n",
       "</style>\n",
       "<table border=\"1\" class=\"dataframe\">\n",
       "  <thead>\n",
       "    <tr style=\"text-align: right;\">\n",
       "      <th></th>\n",
       "      <th>odor</th>\n",
       "      <th>sar</th>\n",
       "      <th>hariltsagch_dans</th>\n",
       "      <th>hariltsagch_ner</th>\n",
       "      <th>utga</th>\n",
       "      <th>uldegdel</th>\n",
       "      <th>orlogo</th>\n",
       "    </tr>\n",
       "  </thead>\n",
       "  <tbody>\n",
       "    <tr>\n",
       "      <td>0</td>\n",
       "      <td>9</td>\n",
       "      <td>5</td>\n",
       "      <td>0</td>\n",
       "      <td>0</td>\n",
       "      <td>КАРТ ЗАХИАЛГЫН ҮНЭ/ ХАТАНБОЛД-С</td>\n",
       "      <td>5000.000</td>\n",
       "      <td>5000.000</td>\n",
       "    </tr>\n",
       "    <tr>\n",
       "      <td>1</td>\n",
       "      <td>9</td>\n",
       "      <td>5</td>\n",
       "      <td>457054690</td>\n",
       "      <td>амгалан ганбат</td>\n",
       "      <td>EB -4 sar tsalin</td>\n",
       "      <td>134000.000</td>\n",
       "      <td>134000.000</td>\n",
       "    </tr>\n",
       "    <tr>\n",
       "      <td>2</td>\n",
       "      <td>16</td>\n",
       "      <td>5</td>\n",
       "      <td>457054690</td>\n",
       "      <td>амгалан ганбат</td>\n",
       "      <td>EB -hdmi converter</td>\n",
       "      <td>10150.000</td>\n",
       "      <td>7000.000</td>\n",
       "    </tr>\n",
       "    <tr>\n",
       "      <td>3</td>\n",
       "      <td>17</td>\n",
       "      <td>5</td>\n",
       "      <td>0</td>\n",
       "      <td>949610xxxxxx4357</td>\n",
       "      <td>00000064:ATM P2P Credit</td>\n",
       "      <td>30100.000</td>\n",
       "      <td>20000.000</td>\n",
       "    </tr>\n",
       "    <tr>\n",
       "      <td>4</td>\n",
       "      <td>27</td>\n",
       "      <td>5</td>\n",
       "      <td>0</td>\n",
       "      <td>бхтт-ны бага дүнтэй гүйлгээний авлага</td>\n",
       "      <td>computer  : 050000-ХААН Банк(5374373991-БОЛД У...</td>\n",
       "      <td>130000.000</td>\n",
       "      <td>130000.000</td>\n",
       "    </tr>\n",
       "  </tbody>\n",
       "</table>\n",
       "</div>"
      ],
      "text/plain": [
       "   odor  sar  hariltsagch_dans                        hariltsagch_ner  \\\n",
       "0     9    5                 0                                      0   \n",
       "1     9    5         457054690                         амгалан ганбат   \n",
       "2    16    5         457054690                         амгалан ганбат   \n",
       "3    17    5                 0                       949610xxxxxx4357   \n",
       "4    27    5                 0  бхтт-ны бага дүнтэй гүйлгээний авлага   \n",
       "\n",
       "                                                utga   uldegdel     orlogo  \n",
       "0                    КАРТ ЗАХИАЛГЫН ҮНЭ/ ХАТАНБОЛД-С   5000.000   5000.000  \n",
       "1                                   EB -4 sar tsalin 134000.000 134000.000  \n",
       "2                                 EB -hdmi converter  10150.000   7000.000  \n",
       "3                            00000064:ATM P2P Credit  30100.000  20000.000  \n",
       "4  computer  : 050000-ХААН Банк(5374373991-БОЛД У... 130000.000 130000.000  "
      ]
     },
     "execution_count": 27,
     "metadata": {},
     "output_type": "execute_result"
    }
   ],
   "source": [
    "data.head()"
   ]
  },
  {
   "cell_type": "code",
   "execution_count": 31,
   "metadata": {},
   "outputs": [
    {
     "data": {
      "text/html": [
       "<div>\n",
       "<style scoped>\n",
       "    .dataframe tbody tr th:only-of-type {\n",
       "        vertical-align: middle;\n",
       "    }\n",
       "\n",
       "    .dataframe tbody tr th {\n",
       "        vertical-align: top;\n",
       "    }\n",
       "\n",
       "    .dataframe thead th {\n",
       "        text-align: right;\n",
       "    }\n",
       "</style>\n",
       "<table border=\"1\" class=\"dataframe\">\n",
       "  <thead>\n",
       "    <tr style=\"text-align: right;\">\n",
       "      <th></th>\n",
       "      <th>odor</th>\n",
       "      <th>sar</th>\n",
       "      <th>hariltsagch_dans</th>\n",
       "      <th>hariltsagch_ner</th>\n",
       "      <th>utga</th>\n",
       "      <th>uldegdel</th>\n",
       "    </tr>\n",
       "  </thead>\n",
       "  <tbody>\n",
       "    <tr>\n",
       "      <td>0</td>\n",
       "      <td>9</td>\n",
       "      <td>5</td>\n",
       "      <td>0</td>\n",
       "      <td>0</td>\n",
       "      <td>КАРТ ЗАХИАЛГЫН ҮНЭ/ ХАТАНБОЛД-С</td>\n",
       "      <td>5000.000</td>\n",
       "    </tr>\n",
       "    <tr>\n",
       "      <td>1</td>\n",
       "      <td>9</td>\n",
       "      <td>5</td>\n",
       "      <td>457054690</td>\n",
       "      <td>амгалан ганбат</td>\n",
       "      <td>EB -4 sar tsalin</td>\n",
       "      <td>134000.000</td>\n",
       "    </tr>\n",
       "    <tr>\n",
       "      <td>2</td>\n",
       "      <td>16</td>\n",
       "      <td>5</td>\n",
       "      <td>457054690</td>\n",
       "      <td>амгалан ганбат</td>\n",
       "      <td>EB -hdmi converter</td>\n",
       "      <td>10150.000</td>\n",
       "    </tr>\n",
       "    <tr>\n",
       "      <td>3</td>\n",
       "      <td>17</td>\n",
       "      <td>5</td>\n",
       "      <td>0</td>\n",
       "      <td>949610xxxxxx4357</td>\n",
       "      <td>00000064:ATM P2P Credit</td>\n",
       "      <td>30100.000</td>\n",
       "    </tr>\n",
       "    <tr>\n",
       "      <td>4</td>\n",
       "      <td>27</td>\n",
       "      <td>5</td>\n",
       "      <td>0</td>\n",
       "      <td>бхтт-ны бага дүнтэй гүйлгээний авлага</td>\n",
       "      <td>computer  : 050000-ХААН Банк(5374373991-БОЛД У...</td>\n",
       "      <td>130000.000</td>\n",
       "    </tr>\n",
       "  </tbody>\n",
       "</table>\n",
       "</div>"
      ],
      "text/plain": [
       "   odor  sar  hariltsagch_dans                        hariltsagch_ner  \\\n",
       "0     9    5                 0                                      0   \n",
       "1     9    5         457054690                         амгалан ганбат   \n",
       "2    16    5         457054690                         амгалан ганбат   \n",
       "3    17    5                 0                       949610xxxxxx4357   \n",
       "4    27    5                 0  бхтт-ны бага дүнтэй гүйлгээний авлага   \n",
       "\n",
       "                                                utga   uldegdel  \n",
       "0                    КАРТ ЗАХИАЛГЫН ҮНЭ/ ХАТАНБОЛД-С   5000.000  \n",
       "1                                   EB -4 sar tsalin 134000.000  \n",
       "2                                 EB -hdmi converter  10150.000  \n",
       "3                            00000064:ATM P2P Credit  30100.000  \n",
       "4  computer  : 050000-ХААН Банк(5374373991-БОЛД У... 130000.000  "
      ]
     },
     "execution_count": 31,
     "metadata": {},
     "output_type": "execute_result"
    }
   ],
   "source": [
    "train = data.iloc[:,0:6]\n",
    "y_train = data.orlogo.values\n",
    "train.head()"
   ]
  },
  {
   "cell_type": "code",
   "execution_count": 32,
   "metadata": {},
   "outputs": [
    {
     "name": "stdout",
     "output_type": "stream",
     "text": [
      "(128, 6)\n",
      "(128, 96)\n"
     ]
    }
   ],
   "source": [
    "print(train.shape)\n",
    "train = pd.get_dummies(train)\n",
    "print(train.shape)"
   ]
  },
  {
   "cell_type": "code",
   "execution_count": 58,
   "metadata": {},
   "outputs": [
    {
     "data": {
      "text/plain": [
       "Index(['odor', 'sar', 'hariltsagch_dans', 'uldegdel', 'hariltsagch_ner_0',\n",
       "       'hariltsagch_ner_949610xxxxxx4357', 'hariltsagch_ner_амарсайхан одбаяр',\n",
       "       'hariltsagch_ner_амгалан ганбат',\n",
       "       'hariltsagch_ner_бага дүнтэй гүйлгээний хоорондын тооцоо',\n",
       "       'hariltsagch_ner_бат-оргил батбуян',\n",
       "       'hariltsagch_ner_бат-эрдэнэ сүх-очир',\n",
       "       'hariltsagch_ner_бхтт-ны бага дүнтэй гүйлгээний авлага',\n",
       "       'hariltsagch_ner_дэнцү дата артист монгол гхоххк',\n",
       "       'hariltsagch_ner_лэндмн ббсб', 'hariltsagch_ner_маргад алтангэрэл',\n",
       "       'hariltsagch_ner_мост мони гүйлгээний түр данс / mnt',\n",
       "       'hariltsagch_ner_хатанболд батзориг', 'hariltsagch_ner_цэлмэн төгсбаяр',\n",
       "       'hariltsagch_ner_эрдэнэ-очир мөнхзул',\n",
       "       'utga_(3749928) НӨАТ-ын 2018 оны урамшуулал  : 910000-НЄАТ буцаан олголт(3402031-НӨАТ)-> 040000-(423009374-ЭРДЭНЭОЧИР МӨНХЗУЛ)',\n",
       "       'utga_00000064:ATM P2P Credit', 'utga_AUG SALARY FROM DDAM LLC',\n",
       "       'utga_Bodygram delbee  : 050000-ХААН Банк(5041461730-АДЪЯАМӨНХ ЦЭЛМЭГ)-> 040000-(458047728-Khatanbold)',\n",
       "       'utga_EB -4 sar tsalin', 'utga_EB -5 sar tsalin, busad',\n",
       "       'utga_EB -6 sar Addice', 'utga_EB -8 sar office turees',\n",
       "       'utga_EB -Addice 7 sar', 'utga_EB -Addice 8, 9 sar', 'utga_EB -Babu',\n",
       "       'utga_EB -Babugas', 'utga_EB -Khatbaa or', 'utga_EB -Khatnaa',\n",
       "       'utga_EB -Khatnaa or',\n",
       "       'utga_EB -LendMN-ээс УП99123139-ий хүсэлтээр шилжүүлэв.',\n",
       "       'utga_EB -Mungu', 'utga_EB -Orlogo', 'utga_EB -Zeel', 'utga_EB -babh',\n",
       "       'utga_EB -babu', 'utga_EB -babu ahaas',\n",
       "       'utga_EB -daraa dahiad zeeleerei', 'utga_EB -gang2', 'utga_EB -handiv',\n",
       "       'utga_EB -hatnaa', 'utga_EB -hatnaadaa handivlav',\n",
       "       'utga_EB -hdmi converter', 'utga_EB -hool', 'utga_EB -hoolnii',\n",
       "       'utga_EB -ivii2', 'utga_EB -khatnaa', 'utga_EB -nomikai us undaa',\n",
       "       'utga_EB -office man', 'utga_EB -t1 al alishu', 'utga_EB -tsuivan',\n",
       "       'utga_EB -xyz',\n",
       "       'utga_EB-Khatnaad  : 050000-ХААН Банк(5041461730-АДЪЯАМӨНХ ЦЭЛМЭГ)-> 040000-(458047728-Khatanbold)',\n",
       "       'utga_EB-Khatnaad zeel sain axaas n  : 050000-ХААН Банк(5041461730-АДЪЯАМӨНХ ЦЭЛМЭГ)-> 040000-(458047728-Khatanbold)',\n",
       "       'utga_EB-Tsalin Bodygram  : 050000-ХААН Банк(5041461730-АДЪЯАМӨНХ ЦЭЛМЭГ)-> 040000-(458047728-Khatanbold)',\n",
       "       'utga_EB-kino  : 050000-ХААН Банк(5753803551-ЭРДЭНЭТӨГС МӨНХТӨР)-> 040000-(458047728-Khantanbold)',\n",
       "       'utga_EB-latsin  : 050000-ХААН Банк(5027443390-БАТБУЯН БАТОРГИЛ)-> 040000-(458047728-Khatanbold Batzorig)',\n",
       "       'utga_Khatnaa  : 050000-ХААН Банк(5041461730-АДЪЯАМӨНХ ЦЭЛМЭГ)-> 040000-(458047728-Khatanbold)',\n",
       "       'utga_Khatnaa zeeel  : 050000-ХААН Банк(5041461730-АДЪЯАМӨНХ ЦЭЛМЭГ)-> 040000-(458047728-Khatanbold)',\n",
       "       'utga_Khool  : 050000-ХААН Банк(5041461730-АДЪЯАМӨНХ ЦЭЛМЭГ)-> 040000-(458047728-Khatanbold)',\n",
       "       'utga_Khooolnii mungu sain axaas n  : 050000-ХААН Банк(5041461730-АДЪЯАМӨНХ ЦЭЛМЭГ)-> 040000-(458047728-Khatanbold)',\n",
       "       'utga_MM:Дансны дугаараар (ХХБ khatanbold)',\n",
       "       'utga_Maruujin  : 050000-ХААН Банк(5041461730-АДЪЯАМӨНХ ЦЭЛМЭГ)-> 040000-(458047728-Khatanbold)',\n",
       "       'utga_TSEGI  : 05-(5033534109-БАТЗОРИГ ЦЭГМИД)-> 04-(458047728-KHATANBOLD)',\n",
       "       'utga_Tsalin  : 050000-ХААН Банк(5041461730-АДЪЯАМӨНХ ЦЭЛМЭГ)-> 040000-(458047728-Khatanbold)',\n",
       "       'utga_[BABU]  : 05-(5700191898-СҮХОЧИР БАТЭРДЭНЭ)-> 04-(458047728-KHATANBOLD)',\n",
       "       'utga_[BABU]  : 05-(5753803584-СҮХОЧИР БАТЭРДЭНЭ)-> 04-(458047728-KHATANBOLD)',\n",
       "       'utga_[DDAM]  : 05-(5653000716-МӨНХЗУЛ ЭРДЭНЭОЧИР)-> 04-(458047728-KHATANBOLD)',\n",
       "       'utga_[S]  : 34-(10750011754-АМАРСАНАА ЭНХБАТ)-> 04-(458047728-KHATANBOLD)',\n",
       "       'utga_[UR]  : 05-(5753803539-МЯГМАРСҮРЭН ЭНХАМГАЛАН)-> 04-(458047728-KHATANBOLD)',\n",
       "       'utga_bilguun  : 050000-ХААН Банк(5653000716-МӨНХЗУЛ ЭРДЭНЭОЧИР)-> 040000-(458047728-hatanbold)',\n",
       "       'utga_boloroo  : 050000-ХААН Банк(5019304037-МӨНХЗУЛ БОЛОРТУЯА)-> 040000-(423009374-Erdene-ochir)',\n",
       "       'utga_coffee  : 050000-ХААН Банк(5753801496-ЖАМЦ МАРАЛ)-> 040000-(423009374-erdeneochir)',\n",
       "       'utga_computer  : 050000-ХААН Банк(5374373991-БОЛД УУГАНБАЯР)-> 040000-(458047728-khatanbold)',\n",
       "       'utga_hool  : 050000-ХААН Банк(5753803584-СҮХОЧИР БАТЭРДЭНЭ)-> 040000-(458047728-khatanbold)',\n",
       "       'utga_kino  : 050000-ХААН Банк(5753803540-ГАНБАТ БАТОРГИЛ)-> 040000-(458047728-Khatanbold)',\n",
       "       'utga_ndn  : 050000-ХААН Банк(5034734425-СҮХОЧИР БАТЭРДЭНЭ)-> 040000-(458047728-khatanbold)',\n",
       "       'utga_tse  : 050000-ХААН Банк(5033534109-БАТЗОРИГ ЦЭГМИД)-> 040000-(458047728-Khatanbold)',\n",
       "       'utga_tseg  : 050000-ХААН Банк(5033534109-БАТЗОРИГ ЦЭГМИД)-> 040000-(458047728-Khatanbold)',\n",
       "       'utga_tsegi  : 050000-ХААН Банк(5033534109-БАТЗОРИГ ЦЭГМИД)-> 040000-(458047728-Khatanbold)',\n",
       "       'utga_tselmeg  : 050000-ХААН Банк(5033534109-БАТЗОРИГ ЦЭГМИД)-> 040000-(458047728-Khatanbold)',\n",
       "       'utga_tuya  : 150000-Голомт тєв банк(1205106377-ТУЯАМАНДАХ НАМХАЙ)-> 040000-(458047728-HATANBOLD)',\n",
       "       'utga_ДЭНЦҮ ДАТА АРТИСТ МОНГОЛ ГХОХХК-С 3-Р САРЫН ЦАЛИН',\n",
       "       'utga_ДЭНЦҮ ДАТА АРТИСТ МОНГОЛ ГХОХХК-С ЦАЛИН',\n",
       "       'utga_ДЭНЦҮ ДАТА АРТИСТ МОНГОЛ ХХК-С 04-Р САР УРЬДЧИЛГАА ЦАЛИН',\n",
       "       'utga_ДЭНЦҮ ДАТА АРТИСТ МОНГОЛ ХХК-С ЦАЛИН',\n",
       "       'utga_КАРТ ЗАХИАЛГЫН ҮНЭ/ ХАТАНБОЛД-С',\n",
       "       'utga_Кредит хүү кап хийв. (EOM)', 'utga_ХАТАНБОЛД ОРЛОГО',\n",
       "       'utga_ЭРДЭНЭТУЯА-С',\n",
       "       'utga_цэг  : 050000-ХААН Банк(5033534109-БАТЗОРИГ ЦЭГМИД)-> 040000-(458047728-Хатанболд)',\n",
       "       'utga_өр  : 050000-ХААН Банк(5753803618-БАТЖАРГАЛ БҮРИ)-> 040000-(458047728-Хатанболд)'],\n",
       "      dtype='object')"
      ]
     },
     "execution_count": 58,
     "metadata": {},
     "output_type": "execute_result"
    }
   ],
   "source": [
    "train.columns"
   ]
  },
  {
   "cell_type": "code",
   "execution_count": 33,
   "metadata": {},
   "outputs": [],
   "source": [
    "from sklearn.linear_model import ElasticNet, Lasso,  BayesianRidge, LassoLarsIC\n",
    "from sklearn.ensemble import RandomForestRegressor,  GradientBoostingRegressor\n",
    "from sklearn.kernel_ridge import KernelRidge\n",
    "from sklearn.pipeline import make_pipeline\n",
    "from sklearn.preprocessing import RobustScaler\n",
    "from sklearn.base import BaseEstimator, TransformerMixin, RegressorMixin, clone\n",
    "from sklearn.model_selection import KFold, cross_val_score, train_test_split\n",
    "from sklearn.metrics import mean_squared_error\n",
    "import xgboost as xgb\n",
    "import lightgbm as lgb"
   ]
  },
  {
   "cell_type": "code",
   "execution_count": 34,
   "metadata": {},
   "outputs": [],
   "source": [
    "n_folds = 6\n",
    "\n",
    "def rmsle_cv(model):\n",
    "    kf = KFold(n_folds, shuffle=True, random_state=42).get_n_splits(train.values)\n",
    "    rmse= np.sqrt(-cross_val_score(model, train.values, y_train, scoring=\"neg_mean_squared_error\", cv = kf))\n",
    "    return(rmse)"
   ]
  },
  {
   "cell_type": "code",
   "execution_count": 35,
   "metadata": {},
   "outputs": [],
   "source": [
    "lasso = make_pipeline(RobustScaler(), Lasso(alpha =0.0005, random_state=1))"
   ]
  },
  {
   "cell_type": "code",
   "execution_count": 36,
   "metadata": {},
   "outputs": [],
   "source": [
    "ENet = make_pipeline(RobustScaler(), ElasticNet(alpha=0.0005, l1_ratio=.9, random_state=3))"
   ]
  },
  {
   "cell_type": "code",
   "execution_count": 37,
   "metadata": {},
   "outputs": [],
   "source": [
    "KRR = KernelRidge(alpha=0.6, kernel='polynomial', degree=2, coef0=2.5)"
   ]
  },
  {
   "cell_type": "code",
   "execution_count": 38,
   "metadata": {},
   "outputs": [],
   "source": [
    "GBoost = GradientBoostingRegressor(n_estimators=3000, learning_rate=0.05,\n",
    "                                   max_depth=4, max_features='sqrt',\n",
    "                                   min_samples_leaf=15, min_samples_split=10, \n",
    "                                   loss='huber', random_state =5)"
   ]
  },
  {
   "cell_type": "code",
   "execution_count": 39,
   "metadata": {},
   "outputs": [],
   "source": [
    "model_xgb = xgb.XGBRegressor(colsample_bytree=0.4603, gamma=0.0468, \n",
    "                             learning_rate=0.05, max_depth=3, \n",
    "                             min_child_weight=1.7817, n_estimators=2200,\n",
    "                             reg_alpha=0.4640, reg_lambda=0.8571,\n",
    "                             subsample=0.5213, silent=1,\n",
    "                             random_state =7, nthread = -1)"
   ]
  },
  {
   "cell_type": "code",
   "execution_count": 40,
   "metadata": {},
   "outputs": [],
   "source": [
    "model_lgb = lgb.LGBMRegressor(objective='regression',num_leaves=5,\n",
    "                              learning_rate=0.05, n_estimators=720,\n",
    "                              max_bin = 55, bagging_fraction = 0.8,\n",
    "                              bagging_freq = 5, feature_fraction = 0.2319,\n",
    "                              feature_fraction_seed=9, bagging_seed=9,\n",
    "                              min_data_in_leaf =6, min_sum_hessian_in_leaf = 11)"
   ]
  },
  {
   "cell_type": "code",
   "execution_count": 41,
   "metadata": {},
   "outputs": [
    {
     "name": "stdout",
     "output_type": "stream",
     "text": [
      "\n",
      "Lasso score: 190166.1339 (77026.7302)\n",
      "\n"
     ]
    }
   ],
   "source": [
    "score = rmsle_cv(lasso)\n",
    "print(\"\\nLasso score: {:.4f} ({:.4f})\\n\".format(score.mean(), score.std()))"
   ]
  },
  {
   "cell_type": "code",
   "execution_count": 42,
   "metadata": {},
   "outputs": [
    {
     "name": "stdout",
     "output_type": "stream",
     "text": [
      "ElasticNet score: 185413.9963 (84477.3882)\n",
      "\n"
     ]
    }
   ],
   "source": [
    "score = rmsle_cv(ENet)\n",
    "print(\"ElasticNet score: {:.4f} ({:.4f})\\n\".format(score.mean(), score.std()))"
   ]
  },
  {
   "cell_type": "code",
   "execution_count": 43,
   "metadata": {},
   "outputs": [
    {
     "name": "stdout",
     "output_type": "stream",
     "text": [
      "Kernel Ridge score: 189110.5166 (142365.3779)\n",
      "\n"
     ]
    }
   ],
   "source": [
    "score = rmsle_cv(KRR)\n",
    "print(\"Kernel Ridge score: {:.4f} ({:.4f})\\n\".format(score.mean(), score.std()))"
   ]
  },
  {
   "cell_type": "code",
   "execution_count": 44,
   "metadata": {},
   "outputs": [
    {
     "name": "stdout",
     "output_type": "stream",
     "text": [
      "Gradient Boosting score: 105884.9516 (56424.4115)\n",
      "\n"
     ]
    }
   ],
   "source": [
    "score = rmsle_cv(GBoost)\n",
    "print(\"Gradient Boosting score: {:.4f} ({:.4f})\\n\".format(score.mean(), score.std()))"
   ]
  },
  {
   "cell_type": "code",
   "execution_count": 45,
   "metadata": {},
   "outputs": [
    {
     "name": "stdout",
     "output_type": "stream",
     "text": [
      "Xgboost score: 95793.6370 (54311.4381)\n",
      "\n"
     ]
    }
   ],
   "source": [
    "score = rmsle_cv(model_xgb)\n",
    "print(\"Xgboost score: {:.4f} ({:.4f})\\n\".format(score.mean(), score.std()))"
   ]
  },
  {
   "cell_type": "code",
   "execution_count": 46,
   "metadata": {},
   "outputs": [
    {
     "name": "stdout",
     "output_type": "stream",
     "text": [
      "LGBM score: 118907.6497 (49895.0578)\n",
      "\n"
     ]
    }
   ],
   "source": [
    "score = rmsle_cv(model_lgb)\n",
    "print(\"LGBM score: {:.4f} ({:.4f})\\n\" .format(score.mean(), score.std()))"
   ]
  },
  {
   "cell_type": "code",
   "execution_count": 47,
   "metadata": {},
   "outputs": [],
   "source": [
    "class AveragingModels(BaseEstimator, RegressorMixin, TransformerMixin):\n",
    "    def __init__(self, models):\n",
    "        self.models = models\n",
    "        \n",
    "    # we define clones of the original models to fit the data in\n",
    "    def fit(self, X, y):\n",
    "        self.models_ = [clone(x) for x in self.models]\n",
    "        \n",
    "        # Train cloned base models\n",
    "        for model in self.models_:\n",
    "            model.fit(X, y)\n",
    "\n",
    "        return self\n",
    "    \n",
    "    #Now we do the predictions for cloned models and average them\n",
    "    def predict(self, X):\n",
    "        predictions = np.column_stack([\n",
    "            model.predict(X) for model in self.models_\n",
    "        ])\n",
    "        return np.mean(predictions, axis=1)"
   ]
  },
  {
   "cell_type": "code",
   "execution_count": 48,
   "metadata": {},
   "outputs": [
    {
     "name": "stdout",
     "output_type": "stream",
     "text": [
      " Averaged base models score: 146667.0163 (85603.7815)\n",
      "\n"
     ]
    }
   ],
   "source": [
    "averaged_models = AveragingModels(models = (ENet, GBoost, KRR, lasso))\n",
    "\n",
    "score = rmsle_cv(averaged_models)\n",
    "print(\" Averaged base models score: {:.4f} ({:.4f})\\n\".format(score.mean(), score.std()))"
   ]
  },
  {
   "cell_type": "code",
   "execution_count": 49,
   "metadata": {},
   "outputs": [],
   "source": [
    "class StackingAveragedModels(BaseEstimator, RegressorMixin, TransformerMixin):\n",
    "    def __init__(self, base_models, meta_model, n_folds=5):\n",
    "        self.base_models = base_models\n",
    "        self.meta_model = meta_model\n",
    "        self.n_folds = n_folds\n",
    "   \n",
    "    # We again fit the data on clones of the original models\n",
    "    def fit(self, X, y):\n",
    "        self.base_models_ = [list() for x in self.base_models]\n",
    "        self.meta_model_ = clone(self.meta_model)\n",
    "        kfold = KFold(n_splits=self.n_folds, shuffle=True, random_state=156)\n",
    "        \n",
    "        # Train cloned base models then create out-of-fold predictions\n",
    "        # that are needed to train the cloned meta-model\n",
    "        out_of_fold_predictions = np.zeros((X.shape[0], len(self.base_models)))\n",
    "        for i, model in enumerate(self.base_models):\n",
    "            for train_index, holdout_index in kfold.split(X, y):\n",
    "                instance = clone(model)\n",
    "                self.base_models_[i].append(instance)\n",
    "                instance.fit(X[train_index], y[train_index])\n",
    "                y_pred = instance.predict(X[holdout_index])\n",
    "                out_of_fold_predictions[holdout_index, i] = y_pred\n",
    "                \n",
    "        # Now train the cloned  meta-model using the out-of-fold predictions as new feature\n",
    "        self.meta_model_.fit(out_of_fold_predictions, y)\n",
    "        return self\n",
    "   \n",
    "    #Do the predictions of all base models on the test data and use the averaged predictions as \n",
    "    #meta-features for the final prediction which is done by the meta-model\n",
    "    def predict(self, X):\n",
    "        meta_features = np.column_stack([\n",
    "            np.column_stack([model.predict(X) for model in base_models]).mean(axis=1)\n",
    "            for base_models in self.base_models_ ])\n",
    "        return self.meta_model_.predict(meta_features)"
   ]
  },
  {
   "cell_type": "code",
   "execution_count": 50,
   "metadata": {},
   "outputs": [
    {
     "name": "stdout",
     "output_type": "stream",
     "text": [
      "Stacking Averaged models score: 103532.7558 (51799.4910)\n"
     ]
    }
   ],
   "source": [
    "stacked_averaged_models = StackingAveragedModels(base_models = (ENet, GBoost, KRR),\n",
    "                                                 meta_model = lasso)\n",
    "\n",
    "score = rmsle_cv(stacked_averaged_models)\n",
    "print(\"Stacking Averaged models score: {:.4f} ({:.4f})\".format(score.mean(), score.std()))"
   ]
  },
  {
   "cell_type": "code",
   "execution_count": 51,
   "metadata": {},
   "outputs": [],
   "source": [
    "def rmsle(y, y_pred):\n",
    "    return np.sqrt(mean_squared_error(y, y_pred))"
   ]
  },
  {
   "cell_type": "code",
   "execution_count": 53,
   "metadata": {},
   "outputs": [
    {
     "name": "stdout",
     "output_type": "stream",
     "text": [
      "45135.253195633784\n"
     ]
    }
   ],
   "source": [
    "stacked_averaged_models.fit(train.values, y_train)\n",
    "stacked_train_pred = stacked_averaged_models.predict(train.values)\n",
    "# stacked_pred = np.expm1(stacked_averaged_models.predict(test.values))\n",
    "print(rmsle(y_train, stacked_train_pred))"
   ]
  },
  {
   "cell_type": "code",
   "execution_count": 56,
   "metadata": {},
   "outputs": [
    {
     "data": {
      "text/plain": [
       "Index(['odor', 'sar', 'hariltsagch_dans', 'uldegdel', 'hariltsagch_ner_0',\n",
       "       'hariltsagch_ner_949610xxxxxx4357', 'hariltsagch_ner_амарсайхан одбаяр',\n",
       "       'hariltsagch_ner_амгалан ганбат',\n",
       "       'hariltsagch_ner_бага дүнтэй гүйлгээний хоорондын тооцоо',\n",
       "       'hariltsagch_ner_бат-оргил батбуян',\n",
       "       'hariltsagch_ner_бат-эрдэнэ сүх-очир',\n",
       "       'hariltsagch_ner_бхтт-ны бага дүнтэй гүйлгээний авлага',\n",
       "       'hariltsagch_ner_дэнцү дата артист монгол гхоххк',\n",
       "       'hariltsagch_ner_лэндмн ббсб', 'hariltsagch_ner_маргад алтангэрэл',\n",
       "       'hariltsagch_ner_мост мони гүйлгээний түр данс / mnt',\n",
       "       'hariltsagch_ner_хатанболд батзориг', 'hariltsagch_ner_цэлмэн төгсбаяр',\n",
       "       'hariltsagch_ner_эрдэнэ-очир мөнхзул',\n",
       "       'utga_(3749928) НӨАТ-ын 2018 оны урамшуулал  : 910000-НЄАТ буцаан олголт(3402031-НӨАТ)-> 040000-(423009374-ЭРДЭНЭОЧИР МӨНХЗУЛ)',\n",
       "       'utga_00000064:ATM P2P Credit', 'utga_AUG SALARY FROM DDAM LLC',\n",
       "       'utga_Bodygram delbee  : 050000-ХААН Банк(5041461730-АДЪЯАМӨНХ ЦЭЛМЭГ)-> 040000-(458047728-Khatanbold)',\n",
       "       'utga_EB -4 sar tsalin', 'utga_EB -5 sar tsalin, busad',\n",
       "       'utga_EB -6 sar Addice', 'utga_EB -8 sar office turees',\n",
       "       'utga_EB -Addice 7 sar', 'utga_EB -Addice 8, 9 sar', 'utga_EB -Babu',\n",
       "       'utga_EB -Babugas', 'utga_EB -Khatbaa or', 'utga_EB -Khatnaa',\n",
       "       'utga_EB -Khatnaa or',\n",
       "       'utga_EB -LendMN-ээс УП99123139-ий хүсэлтээр шилжүүлэв.',\n",
       "       'utga_EB -Mungu', 'utga_EB -Orlogo', 'utga_EB -Zeel', 'utga_EB -babh',\n",
       "       'utga_EB -babu', 'utga_EB -babu ahaas',\n",
       "       'utga_EB -daraa dahiad zeeleerei', 'utga_EB -gang2', 'utga_EB -handiv',\n",
       "       'utga_EB -hatnaa', 'utga_EB -hatnaadaa handivlav',\n",
       "       'utga_EB -hdmi converter', 'utga_EB -hool', 'utga_EB -hoolnii',\n",
       "       'utga_EB -ivii2', 'utga_EB -khatnaa', 'utga_EB -nomikai us undaa',\n",
       "       'utga_EB -office man', 'utga_EB -t1 al alishu', 'utga_EB -tsuivan',\n",
       "       'utga_EB -xyz',\n",
       "       'utga_EB-Khatnaad  : 050000-ХААН Банк(5041461730-АДЪЯАМӨНХ ЦЭЛМЭГ)-> 040000-(458047728-Khatanbold)',\n",
       "       'utga_EB-Khatnaad zeel sain axaas n  : 050000-ХААН Банк(5041461730-АДЪЯАМӨНХ ЦЭЛМЭГ)-> 040000-(458047728-Khatanbold)',\n",
       "       'utga_EB-Tsalin Bodygram  : 050000-ХААН Банк(5041461730-АДЪЯАМӨНХ ЦЭЛМЭГ)-> 040000-(458047728-Khatanbold)',\n",
       "       'utga_EB-kino  : 050000-ХААН Банк(5753803551-ЭРДЭНЭТӨГС МӨНХТӨР)-> 040000-(458047728-Khantanbold)',\n",
       "       'utga_EB-latsin  : 050000-ХААН Банк(5027443390-БАТБУЯН БАТОРГИЛ)-> 040000-(458047728-Khatanbold Batzorig)',\n",
       "       'utga_Khatnaa  : 050000-ХААН Банк(5041461730-АДЪЯАМӨНХ ЦЭЛМЭГ)-> 040000-(458047728-Khatanbold)',\n",
       "       'utga_Khatnaa zeeel  : 050000-ХААН Банк(5041461730-АДЪЯАМӨНХ ЦЭЛМЭГ)-> 040000-(458047728-Khatanbold)',\n",
       "       'utga_Khool  : 050000-ХААН Банк(5041461730-АДЪЯАМӨНХ ЦЭЛМЭГ)-> 040000-(458047728-Khatanbold)',\n",
       "       'utga_Khooolnii mungu sain axaas n  : 050000-ХААН Банк(5041461730-АДЪЯАМӨНХ ЦЭЛМЭГ)-> 040000-(458047728-Khatanbold)',\n",
       "       'utga_MM:Дансны дугаараар (ХХБ khatanbold)',\n",
       "       'utga_Maruujin  : 050000-ХААН Банк(5041461730-АДЪЯАМӨНХ ЦЭЛМЭГ)-> 040000-(458047728-Khatanbold)',\n",
       "       'utga_TSEGI  : 05-(5033534109-БАТЗОРИГ ЦЭГМИД)-> 04-(458047728-KHATANBOLD)',\n",
       "       'utga_Tsalin  : 050000-ХААН Банк(5041461730-АДЪЯАМӨНХ ЦЭЛМЭГ)-> 040000-(458047728-Khatanbold)',\n",
       "       'utga_[BABU]  : 05-(5700191898-СҮХОЧИР БАТЭРДЭНЭ)-> 04-(458047728-KHATANBOLD)',\n",
       "       'utga_[BABU]  : 05-(5753803584-СҮХОЧИР БАТЭРДЭНЭ)-> 04-(458047728-KHATANBOLD)',\n",
       "       'utga_[DDAM]  : 05-(5653000716-МӨНХЗУЛ ЭРДЭНЭОЧИР)-> 04-(458047728-KHATANBOLD)',\n",
       "       'utga_[S]  : 34-(10750011754-АМАРСАНАА ЭНХБАТ)-> 04-(458047728-KHATANBOLD)',\n",
       "       'utga_[UR]  : 05-(5753803539-МЯГМАРСҮРЭН ЭНХАМГАЛАН)-> 04-(458047728-KHATANBOLD)',\n",
       "       'utga_bilguun  : 050000-ХААН Банк(5653000716-МӨНХЗУЛ ЭРДЭНЭОЧИР)-> 040000-(458047728-hatanbold)',\n",
       "       'utga_boloroo  : 050000-ХААН Банк(5019304037-МӨНХЗУЛ БОЛОРТУЯА)-> 040000-(423009374-Erdene-ochir)',\n",
       "       'utga_coffee  : 050000-ХААН Банк(5753801496-ЖАМЦ МАРАЛ)-> 040000-(423009374-erdeneochir)',\n",
       "       'utga_computer  : 050000-ХААН Банк(5374373991-БОЛД УУГАНБАЯР)-> 040000-(458047728-khatanbold)',\n",
       "       'utga_hool  : 050000-ХААН Банк(5753803584-СҮХОЧИР БАТЭРДЭНЭ)-> 040000-(458047728-khatanbold)',\n",
       "       'utga_kino  : 050000-ХААН Банк(5753803540-ГАНБАТ БАТОРГИЛ)-> 040000-(458047728-Khatanbold)',\n",
       "       'utga_ndn  : 050000-ХААН Банк(5034734425-СҮХОЧИР БАТЭРДЭНЭ)-> 040000-(458047728-khatanbold)',\n",
       "       'utga_tse  : 050000-ХААН Банк(5033534109-БАТЗОРИГ ЦЭГМИД)-> 040000-(458047728-Khatanbold)',\n",
       "       'utga_tseg  : 050000-ХААН Банк(5033534109-БАТЗОРИГ ЦЭГМИД)-> 040000-(458047728-Khatanbold)',\n",
       "       'utga_tsegi  : 050000-ХААН Банк(5033534109-БАТЗОРИГ ЦЭГМИД)-> 040000-(458047728-Khatanbold)',\n",
       "       'utga_tselmeg  : 050000-ХААН Банк(5033534109-БАТЗОРИГ ЦЭГМИД)-> 040000-(458047728-Khatanbold)',\n",
       "       'utga_tuya  : 150000-Голомт тєв банк(1205106377-ТУЯАМАНДАХ НАМХАЙ)-> 040000-(458047728-HATANBOLD)',\n",
       "       'utga_ДЭНЦҮ ДАТА АРТИСТ МОНГОЛ ГХОХХК-С 3-Р САРЫН ЦАЛИН',\n",
       "       'utga_ДЭНЦҮ ДАТА АРТИСТ МОНГОЛ ГХОХХК-С ЦАЛИН',\n",
       "       'utga_ДЭНЦҮ ДАТА АРТИСТ МОНГОЛ ХХК-С 04-Р САР УРЬДЧИЛГАА ЦАЛИН',\n",
       "       'utga_ДЭНЦҮ ДАТА АРТИСТ МОНГОЛ ХХК-С ЦАЛИН',\n",
       "       'utga_КАРТ ЗАХИАЛГЫН ҮНЭ/ ХАТАНБОЛД-С',\n",
       "       'utga_Кредит хүү кап хийв. (EOM)', 'utga_ХАТАНБОЛД ОРЛОГО',\n",
       "       'utga_ЭРДЭНЭТУЯА-С',\n",
       "       'utga_цэг  : 050000-ХААН Банк(5033534109-БАТЗОРИГ ЦЭГМИД)-> 040000-(458047728-Хатанболд)',\n",
       "       'utga_өр  : 050000-ХААН Банк(5753803618-БАТЖАРГАЛ БҮРИ)-> 040000-(458047728-Хатанболд)'],\n",
       "      dtype='object')"
      ]
     },
     "execution_count": 56,
     "metadata": {},
     "output_type": "execute_result"
    }
   ],
   "source": [
    "train.columns"
   ]
  },
  {
   "cell_type": "code",
   "execution_count": 55,
   "metadata": {},
   "outputs": [
    {
     "ename": "ValueError",
     "evalue": "feature_names may not contain [, ] or <",
     "output_type": "error",
     "traceback": [
      "\u001b[0;31m---------------------------------------------------------------------------\u001b[0m",
      "\u001b[0;31mValueError\u001b[0m                                Traceback (most recent call last)",
      "\u001b[0;32m<ipython-input-55-df34125e7985>\u001b[0m in \u001b[0;36m<module>\u001b[0;34m\u001b[0m\n\u001b[0;32m----> 1\u001b[0;31m \u001b[0mmodel_xgb\u001b[0m\u001b[0;34m.\u001b[0m\u001b[0mfit\u001b[0m\u001b[0;34m(\u001b[0m\u001b[0mtrain\u001b[0m\u001b[0;34m,\u001b[0m \u001b[0my_train\u001b[0m\u001b[0;34m)\u001b[0m\u001b[0;34m\u001b[0m\u001b[0;34m\u001b[0m\u001b[0m\n\u001b[0m\u001b[1;32m      2\u001b[0m \u001b[0mxgb_train_pred\u001b[0m \u001b[0;34m=\u001b[0m \u001b[0mmodel_xgb\u001b[0m\u001b[0;34m.\u001b[0m\u001b[0mpredict\u001b[0m\u001b[0;34m(\u001b[0m\u001b[0mtrain\u001b[0m\u001b[0;34m)\u001b[0m\u001b[0;34m\u001b[0m\u001b[0;34m\u001b[0m\u001b[0m\n\u001b[1;32m      3\u001b[0m \u001b[0;31m# xgb_pred = np.expm1(model_xgb.predict(test))\u001b[0m\u001b[0;34m\u001b[0m\u001b[0;34m\u001b[0m\u001b[0;34m\u001b[0m\u001b[0m\n\u001b[1;32m      4\u001b[0m \u001b[0mprint\u001b[0m\u001b[0;34m(\u001b[0m\u001b[0mrmsle\u001b[0m\u001b[0;34m(\u001b[0m\u001b[0my_train\u001b[0m\u001b[0;34m,\u001b[0m \u001b[0mxgb_train_pred\u001b[0m\u001b[0;34m)\u001b[0m\u001b[0;34m)\u001b[0m\u001b[0;34m\u001b[0m\u001b[0;34m\u001b[0m\u001b[0m\n",
      "\u001b[0;32m~/.local/lib/python3.7/site-packages/xgboost/sklearn.py\u001b[0m in \u001b[0;36mfit\u001b[0;34m(self, X, y, sample_weight, eval_set, eval_metric, early_stopping_rounds, verbose, xgb_model, sample_weight_eval_set, callbacks)\u001b[0m\n\u001b[1;32m    358\u001b[0m                                    missing=self.missing, nthread=self.n_jobs)\n\u001b[1;32m    359\u001b[0m         \u001b[0;32melse\u001b[0m\u001b[0;34m:\u001b[0m\u001b[0;34m\u001b[0m\u001b[0;34m\u001b[0m\u001b[0m\n\u001b[0;32m--> 360\u001b[0;31m             \u001b[0mtrainDmatrix\u001b[0m \u001b[0;34m=\u001b[0m \u001b[0mDMatrix\u001b[0m\u001b[0;34m(\u001b[0m\u001b[0mX\u001b[0m\u001b[0;34m,\u001b[0m \u001b[0mlabel\u001b[0m\u001b[0;34m=\u001b[0m\u001b[0my\u001b[0m\u001b[0;34m,\u001b[0m \u001b[0mmissing\u001b[0m\u001b[0;34m=\u001b[0m\u001b[0mself\u001b[0m\u001b[0;34m.\u001b[0m\u001b[0mmissing\u001b[0m\u001b[0;34m,\u001b[0m \u001b[0mnthread\u001b[0m\u001b[0;34m=\u001b[0m\u001b[0mself\u001b[0m\u001b[0;34m.\u001b[0m\u001b[0mn_jobs\u001b[0m\u001b[0;34m)\u001b[0m\u001b[0;34m\u001b[0m\u001b[0;34m\u001b[0m\u001b[0m\n\u001b[0m\u001b[1;32m    361\u001b[0m \u001b[0;34m\u001b[0m\u001b[0m\n\u001b[1;32m    362\u001b[0m         \u001b[0mevals_result\u001b[0m \u001b[0;34m=\u001b[0m \u001b[0;34m{\u001b[0m\u001b[0;34m}\u001b[0m\u001b[0;34m\u001b[0m\u001b[0;34m\u001b[0m\u001b[0m\n",
      "\u001b[0;32m~/.local/lib/python3.7/site-packages/xgboost/core.py\u001b[0m in \u001b[0;36m__init__\u001b[0;34m(self, data, label, missing, weight, silent, feature_names, feature_types, nthread)\u001b[0m\n\u001b[1;32m    424\u001b[0m                 \u001b[0mself\u001b[0m\u001b[0;34m.\u001b[0m\u001b[0mset_weight\u001b[0m\u001b[0;34m(\u001b[0m\u001b[0mweight\u001b[0m\u001b[0;34m)\u001b[0m\u001b[0;34m\u001b[0m\u001b[0;34m\u001b[0m\u001b[0m\n\u001b[1;32m    425\u001b[0m \u001b[0;34m\u001b[0m\u001b[0m\n\u001b[0;32m--> 426\u001b[0;31m         \u001b[0mself\u001b[0m\u001b[0;34m.\u001b[0m\u001b[0mfeature_names\u001b[0m \u001b[0;34m=\u001b[0m \u001b[0mfeature_names\u001b[0m\u001b[0;34m\u001b[0m\u001b[0;34m\u001b[0m\u001b[0m\n\u001b[0m\u001b[1;32m    427\u001b[0m         \u001b[0mself\u001b[0m\u001b[0;34m.\u001b[0m\u001b[0mfeature_types\u001b[0m \u001b[0;34m=\u001b[0m \u001b[0mfeature_types\u001b[0m\u001b[0;34m\u001b[0m\u001b[0;34m\u001b[0m\u001b[0m\n\u001b[1;32m    428\u001b[0m \u001b[0;34m\u001b[0m\u001b[0m\n",
      "\u001b[0;32m~/.local/lib/python3.7/site-packages/xgboost/core.py\u001b[0m in \u001b[0;36mfeature_names\u001b[0;34m(self, feature_names)\u001b[0m\n\u001b[1;32m    868\u001b[0m                        \u001b[0;32mnot\u001b[0m \u001b[0many\u001b[0m\u001b[0;34m(\u001b[0m\u001b[0mx\u001b[0m \u001b[0;32min\u001b[0m \u001b[0mf\u001b[0m \u001b[0;32mfor\u001b[0m \u001b[0mx\u001b[0m \u001b[0;32min\u001b[0m \u001b[0mset\u001b[0m\u001b[0;34m(\u001b[0m\u001b[0;34m(\u001b[0m\u001b[0;34m'['\u001b[0m\u001b[0;34m,\u001b[0m \u001b[0;34m']'\u001b[0m\u001b[0;34m,\u001b[0m \u001b[0;34m'<'\u001b[0m\u001b[0;34m)\u001b[0m\u001b[0;34m)\u001b[0m\u001b[0;34m)\u001b[0m\u001b[0;34m\u001b[0m\u001b[0;34m\u001b[0m\u001b[0m\n\u001b[1;32m    869\u001b[0m                        for f in feature_names):\n\u001b[0;32m--> 870\u001b[0;31m                 \u001b[0;32mraise\u001b[0m \u001b[0mValueError\u001b[0m\u001b[0;34m(\u001b[0m\u001b[0;34m'feature_names may not contain [, ] or <'\u001b[0m\u001b[0;34m)\u001b[0m\u001b[0;34m\u001b[0m\u001b[0;34m\u001b[0m\u001b[0m\n\u001b[0m\u001b[1;32m    871\u001b[0m         \u001b[0;32melse\u001b[0m\u001b[0;34m:\u001b[0m\u001b[0;34m\u001b[0m\u001b[0;34m\u001b[0m\u001b[0m\n\u001b[1;32m    872\u001b[0m             \u001b[0;31m# reset feature_types also\u001b[0m\u001b[0;34m\u001b[0m\u001b[0;34m\u001b[0m\u001b[0;34m\u001b[0m\u001b[0m\n",
      "\u001b[0;31mValueError\u001b[0m: feature_names may not contain [, ] or <"
     ]
    }
   ],
   "source": [
    "model_xgb.fit(train, y_train)\n",
    "xgb_train_pred = model_xgb.predict(train)\n",
    "# xgb_pred = np.expm1(model_xgb.predict(test))\n",
    "print(rmsle(y_train, xgb_train_pred))"
   ]
  },
  {
   "cell_type": "code",
   "execution_count": null,
   "metadata": {},
   "outputs": [],
   "source": [
    "model_lgb.fit(train, y_train)\n",
    "lgb_train_pred = model_lgb.predict(train)\n",
    "# lgb_pred = np.expm1(model_lgb.predict(test.values))\n",
    "print(rmsle(y_train, lgb_train_pred))"
   ]
  },
  {
   "cell_type": "code",
   "execution_count": null,
   "metadata": {},
   "outputs": [],
   "source": [
    "print('RMSLE score on train data:')\n",
    "print(rmsle(y_train,stacked_train_pred*0.70 +\n",
    "               xgb_train_pred*0.15 + lgb_train_pred*0.15 ))"
   ]
  },
  {
   "cell_type": "code",
   "execution_count": null,
   "metadata": {},
   "outputs": [],
   "source": []
  },
  {
   "cell_type": "code",
   "execution_count": null,
   "metadata": {},
   "outputs": [],
   "source": []
  },
  {
   "cell_type": "code",
   "execution_count": null,
   "metadata": {},
   "outputs": [],
   "source": []
  }
 ],
 "metadata": {
  "kernelspec": {
   "display_name": "Python 3",
   "language": "python",
   "name": "python3"
  },
  "language_info": {
   "codemirror_mode": {
    "name": "ipython",
    "version": 3
   },
   "file_extension": ".py",
   "mimetype": "text/x-python",
   "name": "python",
   "nbconvert_exporter": "python",
   "pygments_lexer": "ipython3",
   "version": "3.7.3"
  }
 },
 "nbformat": 4,
 "nbformat_minor": 2
}
